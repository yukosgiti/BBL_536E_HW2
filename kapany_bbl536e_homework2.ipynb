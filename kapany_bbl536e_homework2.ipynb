{
 "cells": [
  {
   "cell_type": "markdown",
   "metadata": {},
   "source": [
    "# Problem 1\n",
    "\n",
    "You are given \"fitbit.csv\" file containing information activities carrried out during the day and burned calories  estimate  throughout  the  day.\n",
    "\n",
    "We  are  going  to  select  important  features  affecting  calories burned. \n",
    "\n",
    "First,  using  mutual  information  score  find  the  top-4  features  having  the  highest  relationship  with  the target (\"calories burned\" column).\n",
    "\n",
    "Second, using Recursive Feature Elimination method with Ridge regressor find top-4 feature combination.\n",
    "\n",
    "Note that you should drop the \"Date\" column.\n"
   ]
  },
  {
   "cell_type": "code",
   "execution_count": null,
   "metadata": {},
   "outputs": [],
   "source": [
    "# Code here..."
   ]
  },
  {
   "cell_type": "markdown",
   "metadata": {},
   "source": [
    "# Problem 2\n",
    "\n",
    "You are given \"customer.csv\" file containing information to be used for the segmentation of customers.\n",
    "\n",
    "Cluster customer information using K-means algorithm. Produce Elbow and silhouette coefficient plots for cluster numbers ranging from 2 to 9. \n",
    "\n",
    "Before clustering apply standartscaling to the attributes. You can drop the \"ID\" column."
   ]
  },
  {
   "cell_type": "code",
   "execution_count": null,
   "metadata": {},
   "outputs": [],
   "source": [
    "# Code here..."
   ]
  },
  {
   "cell_type": "markdown",
   "metadata": {},
   "source": [
    "# Problem 3\n",
    "\n",
    "You are given “WA_Fn-UseC_-Telco-Customer-Churn.csv” file on Telcom customer churn taken from https://www.kaggle.com/blastchar/telco-customer-churn.\n",
    "\n",
    "You can find more information about the columns in the link provided.\n",
    "\n",
    "Predict customer churn with:\n",
    "* Logistic Regression\n",
    "* Decision Tree\n",
    "* Support Vector Machine\n",
    "* K-Nearest Neighbor\n",
    "* Neural Network methods\n",
    " \n",
    "For  the  parameters  of  these  models  use  sklearn  default parameters. \n",
    "\n",
    "For cross-validation use 5-Fold cross validation with shuffling.\n",
    "\n",
    "When preparing the data for prediction you can drop the customer ID.\n",
    "\n",
    "TotalCharges column has some missing data, drop the rows having missing data in the totalcharges column.\n",
    "\n",
    "Print the averageaccuracyscoresfor training and test splitsof cross validationas given below. \n",
    "\n",
    "Note that you may get different scores since we use shuffling the data in splitting step."
   ]
  },
  {
   "cell_type": "code",
   "execution_count": null,
   "metadata": {},
   "outputs": [],
   "source": [
    "# Code here..."
   ]
  },
  {
   "cell_type": "markdown",
   "metadata": {},
   "source": []
  }
 ],
 "metadata": {
  "language_info": {
   "codemirror_mode": {
    "name": "ipython",
    "version": 3
   },
   "file_extension": ".py",
   "mimetype": "text/x-python",
   "name": "python",
   "nbconvert_exporter": "python",
   "pygments_lexer": "ipython3",
   "version": 3
  },
  "orig_nbformat": 2
 },
 "nbformat": 4,
 "nbformat_minor": 2
}