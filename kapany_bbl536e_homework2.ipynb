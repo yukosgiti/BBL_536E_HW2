{
 "cells": [
  {
   "cell_type": "markdown",
   "metadata": {},
   "source": [
    "# Problem 1\n",
    "\n",
    "You are given \"fitbit.csv\" file containing information activities carrried out during the day and burned calories  estimate  throughout  the  day.\n",
    "\n",
    "We  are  going  to  select  important  features  affecting  calories burned. \n",
    "\n",
    "* First,  using  mutual  information  score  find  the  top-4  features  having  the  highest  relationship  with  the target (\"calories burned\" column).\n",
    "\n",
    "* Second, using `Recursive Feature Elimination` method with Ridge regressor find top-4 feature combination.\n",
    "\n",
    "Note that you should drop the \"Date\" column.\n"
   ]
  },
  {
   "cell_type": "code",
   "execution_count": 70,
   "metadata": {},
   "outputs": [
    {
     "output_type": "execute_result",
     "data": {
      "text/plain": "   Calories Burned  Steps  Distance  Floors  Minutes Sedentary  \\\n0             2682  12541      9.02      13                667   \n1             2423   8029      5.70      35                760   \n2             2875  10801      7.67       3                496   \n3             2638  11997      8.52      22                771   \n4             2423   9039      6.42      12                714   \n\n   Minutes Lightly Active  Minutes Fairly Active  Minutes Very Active  \\\n0                     171                     18                   60   \n1                     208                     13                    6   \n2                     148                     18                   46   \n3                     248                      3                   27   \n4                     232                     10                   16   \n\n   Activity Calories  \n0               1248  \n1                928  \n2               1040  \n3               1285  \n4               1044  ",
      "text/html": "<div>\n<style scoped>\n    .dataframe tbody tr th:only-of-type {\n        vertical-align: middle;\n    }\n\n    .dataframe tbody tr th {\n        vertical-align: top;\n    }\n\n    .dataframe thead th {\n        text-align: right;\n    }\n</style>\n<table border=\"1\" class=\"dataframe\">\n  <thead>\n    <tr style=\"text-align: right;\">\n      <th></th>\n      <th>Calories Burned</th>\n      <th>Steps</th>\n      <th>Distance</th>\n      <th>Floors</th>\n      <th>Minutes Sedentary</th>\n      <th>Minutes Lightly Active</th>\n      <th>Minutes Fairly Active</th>\n      <th>Minutes Very Active</th>\n      <th>Activity Calories</th>\n    </tr>\n  </thead>\n  <tbody>\n    <tr>\n      <th>0</th>\n      <td>2682</td>\n      <td>12541</td>\n      <td>9.02</td>\n      <td>13</td>\n      <td>667</td>\n      <td>171</td>\n      <td>18</td>\n      <td>60</td>\n      <td>1248</td>\n    </tr>\n    <tr>\n      <th>1</th>\n      <td>2423</td>\n      <td>8029</td>\n      <td>5.70</td>\n      <td>35</td>\n      <td>760</td>\n      <td>208</td>\n      <td>13</td>\n      <td>6</td>\n      <td>928</td>\n    </tr>\n    <tr>\n      <th>2</th>\n      <td>2875</td>\n      <td>10801</td>\n      <td>7.67</td>\n      <td>3</td>\n      <td>496</td>\n      <td>148</td>\n      <td>18</td>\n      <td>46</td>\n      <td>1040</td>\n    </tr>\n    <tr>\n      <th>3</th>\n      <td>2638</td>\n      <td>11997</td>\n      <td>8.52</td>\n      <td>22</td>\n      <td>771</td>\n      <td>248</td>\n      <td>3</td>\n      <td>27</td>\n      <td>1285</td>\n    </tr>\n    <tr>\n      <th>4</th>\n      <td>2423</td>\n      <td>9039</td>\n      <td>6.42</td>\n      <td>12</td>\n      <td>714</td>\n      <td>232</td>\n      <td>10</td>\n      <td>16</td>\n      <td>1044</td>\n    </tr>\n  </tbody>\n</table>\n</div>"
     },
     "metadata": {},
     "execution_count": 70
    }
   ],
   "source": [
    "import pandas as pd\n",
    "import numpy as np\n",
    "\n",
    "df = pd.read_csv(\"./data/fitbit.csv\", thousands=',')\n",
    "\n",
    "# Drop Date column.\n",
    "df = df.drop(labels=[\"Date\"], axis=1)\n",
    "df.head()\n"
   ]
  },
  {
   "cell_type": "code",
   "execution_count": 75,
   "metadata": {},
   "outputs": [],
   "source": [
    "# Extract X and y.\n",
    "y_df = df[\"Calories Burned\"]\n",
    "X_df = df.drop(labels=[\"Calories Burned\"], axis=1)\n",
    "X, y = X_df.to_numpy(), y_df.to_numpy()"
   ]
  },
  {
   "cell_type": "markdown",
   "metadata": {},
   "source": [
    "### Using `mutual_info_regression`"
   ]
  },
  {
   "cell_type": "code",
   "execution_count": 81,
   "metadata": {},
   "outputs": [
    {
     "output_type": "execute_result",
     "data": {
      "text/plain": "['Activity Calories', 'Minutes Fairly Active', 'Steps', 'Distance']"
     },
     "metadata": {},
     "execution_count": 81
    }
   ],
   "source": [
    "from sklearn.feature_selection import mutual_info_regression\n",
    "\n",
    "# Score of each column\n",
    "scores = mutual_info_regression(X, y)\n",
    "\n",
    "# Indices of highest relationship\n",
    "indices = np.argsort(scores)[::-1][:4]\n",
    "\n",
    "# Names at the indices\n",
    "list(X_df.columns[indices])"
   ]
  },
  {
   "cell_type": "markdown",
   "metadata": {},
   "source": [
    "### Using `f1_score`"
   ]
  },
  {
   "cell_type": "code",
   "execution_count": 76,
   "metadata": {},
   "outputs": [
    {
     "output_type": "execute_result",
     "data": {
      "text/plain": "['Activity Calories', 'Steps', 'Distance', 'Minutes Very Active']"
     },
     "metadata": {},
     "execution_count": 76
    }
   ],
   "source": [
    "from sklearn.feature_selection import f_classif\n",
    "from sklearn.feature_selection import SelectKBest\n",
    "\n",
    "model = SelectKBest(k=5, score_func=f_classif)\n",
    "model.fit(X, y)\n",
    "\n",
    "# Indices of highest relationship\n",
    "indices = np.argsort(model.scores_)[::-1][:4]\n",
    "\n",
    "# Names at the indices\n",
    "list(X_df.columns[indices])"
   ]
  },
  {
   "cell_type": "markdown",
   "metadata": {},
   "source": [
    "### Using `chi2`"
   ]
  },
  {
   "cell_type": "code",
   "execution_count": 103,
   "metadata": {},
   "outputs": [
    {
     "output_type": "execute_result",
     "data": {
      "text/plain": "['Steps', 'Activity Calories', 'Floors', 'Minutes Sedentary']"
     },
     "metadata": {},
     "execution_count": 103
    }
   ],
   "source": [
    "from sklearn.feature_selection import chi2\n",
    "from sklearn.feature_selection import SelectKBest\n",
    "\n",
    "model = SelectKBest(k=5, score_func=chi2)\n",
    "model.fit(X, y)\n",
    "\n",
    "# Score of each column\n",
    "scores = model.scores_\n",
    "\n",
    "# Indices of highest relationship\n",
    "indices = np.argsort(scores)[::-1][:4]\n",
    "\n",
    "# Names at the indices\n",
    "list(X_df.columns[indices])"
   ]
  },
  {
   "cell_type": "code",
   "execution_count": 101,
   "metadata": {},
   "outputs": [
    {
     "output_type": "execute_result",
     "data": {
      "text/plain": "['Distance',\n 'Minutes Lightly Active',\n 'Minutes Fairly Active',\n 'Minutes Very Active']"
     },
     "metadata": {},
     "execution_count": 101
    }
   ],
   "source": [
    "from sklearn.feature_selection import RFE\n",
    "from sklearn.linear_model import Ridge\n",
    "model = RFE(estimator=Ridge(), n_features_to_select=4, step=1)\n",
    "model.fit(X, y)\n",
    "model.support_\n",
    "list(X_df.columns[model.support_])"
   ]
  },
  {
   "cell_type": "markdown",
   "metadata": {},
   "source": [
    "# Problem 2\n",
    "\n",
    "You are given \"customer.csv\" file containing information to be used for the segmentation of customers.\n",
    "\n",
    "Cluster customer information using K-means algorithm. Produce Elbow and silhouette coefficient plots for cluster numbers ranging from 2 to 9. \n",
    "\n",
    "Before clustering apply standartscaling to the attributes. You can drop the \"ID\" column."
   ]
  },
  {
   "cell_type": "code",
   "execution_count": null,
   "metadata": {},
   "outputs": [],
   "source": [
    "# Code here..."
   ]
  },
  {
   "cell_type": "markdown",
   "metadata": {},
   "source": [
    "# Problem 3\n",
    "\n",
    "You are given “WA_Fn-UseC_-Telco-Customer-Churn.csv” file on Telcom customer churn taken from https://www.kaggle.com/blastchar/telco-customer-churn.\n",
    "\n",
    "You can find more information about the columns in the link provided.\n",
    "\n",
    "Predict customer churn with:\n",
    "* Logistic Regression\n",
    "* Decision Tree\n",
    "* Support Vector Machine\n",
    "* K-Nearest Neighbor\n",
    "* Neural Network methods\n",
    " \n",
    "For  the  parameters  of  these  models  use  sklearn  default parameters. \n",
    "\n",
    "For cross-validation use 5-Fold cross validation with shuffling.\n",
    "\n",
    "When preparing the data for prediction you can drop the customer ID.\n",
    "\n",
    "TotalCharges column has some missing data, drop the rows having missing data in the totalcharges column.\n",
    "\n",
    "Print the averageaccuracyscoresfor training and test splitsof cross validationas given below. \n",
    "\n",
    "Note that you may get different scores since we use shuffling the data in splitting step."
   ]
  },
  {
   "cell_type": "code",
   "execution_count": null,
   "metadata": {},
   "outputs": [],
   "source": [
    "# Code here..."
   ]
  },
  {
   "cell_type": "markdown",
   "metadata": {},
   "source": []
  }
 ],
 "metadata": {
  "language_info": {
   "codemirror_mode": {
    "name": "ipython",
    "version": 3
   },
   "file_extension": ".py",
   "mimetype": "text/x-python",
   "name": "python",
   "nbconvert_exporter": "python",
   "pygments_lexer": "ipython3",
   "version": "3.8.1-final"
  },
  "orig_nbformat": 2,
  "kernelspec": {
   "name": "python38164bitenvvenvc04997555be847849d138ac56541144c",
   "display_name": "Python 3.8.1 64-bit ('.env': venv)"
  }
 },
 "nbformat": 4,
 "nbformat_minor": 2
}